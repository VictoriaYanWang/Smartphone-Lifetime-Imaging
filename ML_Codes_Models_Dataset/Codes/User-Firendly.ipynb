{
 "cells": [
  {
   "cell_type": "markdown",
   "id": "b8b6496e",
   "metadata": {},
   "source": [
    "#### Packages"
   ]
  },
  {
   "cell_type": "code",
   "execution_count": 1,
   "id": "cdea185e",
   "metadata": {},
   "outputs": [],
   "source": [
    "import numpy as np\n",
    "from pandas import DataFrame\n",
    "import os\n",
    "import cv2\n",
    "import shutil\n",
    "from time import time\n",
    "from tensorflow.keras.models import load_model"
   ]
  },
  {
   "cell_type": "markdown",
   "id": "9707d9b4",
   "metadata": {},
   "source": [
    "#### Load Images and Apply Model"
   ]
  },
  {
   "cell_type": "code",
   "execution_count": 2,
   "id": "0d90bde2",
   "metadata": {},
   "outputs": [
    {
     "name": "stdout",
     "output_type": "stream",
     "text": [
      "Please enter the path for the directory that includes unseen images: C:\\Users\\sinas\\OneDrive\\Desktop\\Test Images\\by videos\\20220412_140423_frames_test\n",
      "------------------------------------------------------------------------------------------------------------\n",
      "The execution time to load and process unseen images is 24.24965190887451 seconds.\n",
      "------------------------------------------------------------------------------------------------------------\n",
      "The execution time to apply the model to the unseen images is 3.964491128921509 seconds.\n",
      "------------------------------------------------------------------------------------------------------------\n"
     ]
    },
    {
     "data": {
      "text/html": [
       "<div>\n",
       "<style scoped>\n",
       "    .dataframe tbody tr th:only-of-type {\n",
       "        vertical-align: middle;\n",
       "    }\n",
       "\n",
       "    .dataframe tbody tr th {\n",
       "        vertical-align: top;\n",
       "    }\n",
       "\n",
       "    .dataframe thead th {\n",
       "        text-align: right;\n",
       "    }\n",
       "</style>\n",
       "<table border=\"1\" class=\"dataframe\">\n",
       "  <thead>\n",
       "    <tr style=\"text-align: right;\">\n",
       "      <th></th>\n",
       "      <th>File Name</th>\n",
       "      <th>Predicted Label</th>\n",
       "    </tr>\n",
       "  </thead>\n",
       "  <tbody>\n",
       "    <tr>\n",
       "      <th>0</th>\n",
       "      <td>frame1.jpg</td>\n",
       "      <td>1</td>\n",
       "    </tr>\n",
       "    <tr>\n",
       "      <th>1</th>\n",
       "      <td>frame10.jpg</td>\n",
       "      <td>1</td>\n",
       "    </tr>\n",
       "    <tr>\n",
       "      <th>2</th>\n",
       "      <td>frame100.jpg</td>\n",
       "      <td>1</td>\n",
       "    </tr>\n",
       "    <tr>\n",
       "      <th>3</th>\n",
       "      <td>frame1000.jpg</td>\n",
       "      <td>1</td>\n",
       "    </tr>\n",
       "    <tr>\n",
       "      <th>4</th>\n",
       "      <td>frame1001.jpg</td>\n",
       "      <td>1</td>\n",
       "    </tr>\n",
       "    <tr>\n",
       "      <th>...</th>\n",
       "      <td>...</td>\n",
       "      <td>...</td>\n",
       "    </tr>\n",
       "    <tr>\n",
       "      <th>5312</th>\n",
       "      <td>frame995.jpg</td>\n",
       "      <td>1</td>\n",
       "    </tr>\n",
       "    <tr>\n",
       "      <th>5313</th>\n",
       "      <td>frame996.jpg</td>\n",
       "      <td>0</td>\n",
       "    </tr>\n",
       "    <tr>\n",
       "      <th>5314</th>\n",
       "      <td>frame997.jpg</td>\n",
       "      <td>1</td>\n",
       "    </tr>\n",
       "    <tr>\n",
       "      <th>5315</th>\n",
       "      <td>frame998.jpg</td>\n",
       "      <td>1</td>\n",
       "    </tr>\n",
       "    <tr>\n",
       "      <th>5316</th>\n",
       "      <td>frame999.jpg</td>\n",
       "      <td>0</td>\n",
       "    </tr>\n",
       "  </tbody>\n",
       "</table>\n",
       "<p>5317 rows × 2 columns</p>\n",
       "</div>"
      ],
      "text/plain": [
       "          File Name  Predicted Label\n",
       "0        frame1.jpg                1\n",
       "1       frame10.jpg                1\n",
       "2      frame100.jpg                1\n",
       "3     frame1000.jpg                1\n",
       "4     frame1001.jpg                1\n",
       "...             ...              ...\n",
       "5312   frame995.jpg                1\n",
       "5313   frame996.jpg                0\n",
       "5314   frame997.jpg                1\n",
       "5315   frame998.jpg                1\n",
       "5316   frame999.jpg                0\n",
       "\n",
       "[5317 rows x 2 columns]"
      ]
     },
     "metadata": {},
     "output_type": "display_data"
    },
    {
     "name": "stdout",
     "output_type": "stream",
     "text": [
      "------------------------------------------------------------------------------------------------------------\n",
      "Total number of images with the predicted label of 0 (no background): 2341\n",
      "Total number of images with the predicted label of 1 (with background): 2976\n",
      "------------------------------------------------------------------------------------------------------------\n"
     ]
    }
   ],
   "source": [
    "## load images\n",
    "path_unseen = input(\"Please enter the path for the directory that includes unseen images: \")\n",
    "print(\"------------------------------------------------------------------------------------------------------------\")\n",
    "start1 = time()\n",
    "fileList = os.listdir(path_unseen)\n",
    "x_unseen = []\n",
    "for file in fileList:\n",
    "    img = cv2.imread(path_unseen + \"//\" + file, cv2.IMREAD_GRAYSCALE) # convert to gray scale\n",
    "    img = cv2.resize(img, (128,128)) # resize unseen images to 128*128, which we worked with in training process\n",
    "    x_unseen.append(img)\n",
    "x_unseen = np.array(x_unseen)    \n",
    "x_unseen = x_unseen / 255 # normalize with the same number (255) that we used in training process\n",
    "x_unseen = x_unseen.reshape(-1,128,128,1) # target size is 128*128, gray; only 1 channel\n",
    "end1 = time()\n",
    "print(f\"The execution time to load and process unseen images is {str(end1 - start1)} seconds.\")\n",
    "print(\"------------------------------------------------------------------------------------------------------------\")\n",
    "## load model and apply it to unseen images\n",
    "# loaded_model = load_model(\"model_T.h5\") # model_T was learned from training set and was tested on validation set\n",
    "# loaded_model = load_model(\"model_TV.h5\") # model_TV was learned from training & validation sets and was tested on test set\n",
    "loaded_model = load_model(\"model_TVT.h5\") # model_TVT was learned from the whole dataset at the end\n",
    "start2 = time()\n",
    "pred_t_unseen = loaded_model.predict(x_unseen)\n",
    "end2 = time()\n",
    "print(f\"The execution time to apply the model to the unseen images is {str(end2 - start2)} seconds.\")\n",
    "print(\"------------------------------------------------------------------------------------------------------------\")\n",
    "pred_label_unseen = np.argmax(pred_t_unseen, axis = 1)\n",
    "df = DataFrame({\"File Name\": fileList, \"Predicted Label\": pred_label_unseen.tolist()}) # present as a dataframe\n",
    "display(df)\n",
    "print(\"------------------------------------------------------------------------------------------------------------\")\n",
    "df_0 = df[df[\"Predicted Label\"] == 0]\n",
    "df_1 = df[df[\"Predicted Label\"] == 1]\n",
    "numPred_0 = df_0.shape[0]\n",
    "numPred_1 = df_1.shape[0]\n",
    "print(f\"Total number of images with the predicted label of 0 (no background): {numPred_0}\")\n",
    "print(f\"Total number of images with the predicted label of 1 (with background): {numPred_1}\")\n",
    "print(\"------------------------------------------------------------------------------------------------------------\")"
   ]
  },
  {
   "cell_type": "markdown",
   "id": "3e1f7f77",
   "metadata": {},
   "source": [
    "#### Separate Images of 2 Classes in 2 Subdirectories"
   ]
  },
  {
   "cell_type": "code",
   "execution_count": 3,
   "id": "5165a441",
   "metadata": {},
   "outputs": [
    {
     "name": "stdout",
     "output_type": "stream",
     "text": [
      "The execution time to separate unseen images into two subdirectories is 9.62803053855896 seconds.\n",
      "------------------------------------------------------------------------------------------------------------\n",
      "Two subdirectories were made in the path user provided:\n",
      "1. Images associated with class 0 were copied in the subdirectory 'No BG'\n",
      "2. Images associated with class 1 were copied in the subdirectory 'with BG'\n",
      "------------------------------------------------------------------------------------------------------------\n"
     ]
    }
   ],
   "source": [
    "## Make two subdirectories (associated with two classes) in which images of each class are copied\n",
    "start3 = time()\n",
    "os.mkdir(path_unseen + \"//\" + \"No BG\") # class 0\n",
    "os.mkdir(path_unseen + \"//\" + \"with BG\") # class 1\n",
    "fileNames_0 = list(df_0[\"File Name\"]) # name of images of class 0\n",
    "fileNames_1 = list(df_1[\"File Name\"]) # name of images of class 1\n",
    "for file in fileList: # copy process\n",
    "    if (file in fileNames_0):\n",
    "        shutil.copy(path_unseen + \"//\" + file, path_unseen + \"//\" + \"No BG\")\n",
    "    elif (file in fileNames_1):\n",
    "        shutil.copy(path_unseen + \"//\" + file, path_unseen + \"//\" + \"with BG\")\n",
    "end3 = time()\n",
    "print(f\"The execution time to separate unseen images into two subdirectories is {str(end3 - start3)} seconds.\")\n",
    "print(\"------------------------------------------------------------------------------------------------------------\")\n",
    "print(\"Two subdirectories were made in the path user provided:\")\n",
    "print(\"1. Images associated with class 0 were copied in the subdirectory 'No BG'\")\n",
    "print(\"2. Images associated with class 1 were copied in the subdirectory 'with BG'\")\n",
    "print(\"------------------------------------------------------------------------------------------------------------\")"
   ]
  }
 ],
 "metadata": {
  "kernelspec": {
   "display_name": "Python 3",
   "language": "python",
   "name": "python3"
  },
  "language_info": {
   "codemirror_mode": {
    "name": "ipython",
    "version": 3
   },
   "file_extension": ".py",
   "mimetype": "text/x-python",
   "name": "python",
   "nbconvert_exporter": "python",
   "pygments_lexer": "ipython3",
   "version": "3.8.8"
  }
 },
 "nbformat": 4,
 "nbformat_minor": 5
}
